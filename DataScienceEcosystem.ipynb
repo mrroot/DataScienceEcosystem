{
 "cells": [
  {
   "cell_type": "markdown",
   "id": "7160cc1c-5d49-4e1f-baa0-7f073ff9c8f7",
   "metadata": {},
   "source": [
    "# Data Science Tools and Ecosystem"
   ]
  },
  {
   "cell_type": "markdown",
   "id": "ccd0ae98-5ee4-44b5-b357-4cc11ae18a47",
   "metadata": {},
   "source": [
    "In this notebook I will summarize Tools and Ecosystems, most commonly used by Data Scientists."
   ]
  },
  {
   "cell_type": "markdown",
   "id": "0ed73375-7e15-4a19-8891-56da22a21f05",
   "metadata": {},
   "source": [
    "**Objectives:**\n",
    "- List popular languages for Data Science;\n",
    "- List popular libraries, tools and development environments used in Data Science;\n",
    "- Show Jupiter notebook capabilities in different text markup;\n",
    "- Perform 'on the fly Python code execution by Jupiter Lab IDE'."
   ]
  },
  {
   "cell_type": "markdown",
   "id": "57919214-7066-44fd-ac20-cd2b4ca1d36b",
   "metadata": {},
   "source": [
    "Some of the most popular languages that data scientists use are:\n",
    "\n",
    "1. Python\n",
    "2. R\n",
    "3. SQL\n",
    "4. Java\n",
    "5. Scala\n",
    "6. C++\n",
    "7. Julia\n",
    "\n",
    "JavaScript, PHP, Go, Ruby and Visual Basic are also used in some cases. "
   ]
  },
  {
   "cell_type": "markdown",
   "id": "de9232d8-893a-4a91-9bd4-a948c011a98d",
   "metadata": {},
   "source": [
    "Some of the most commonly used **libraries** and **frameworks** (collection of libraries which provide scientific or development environment) in data science include:\n",
    "\n",
    "- ***Pandas*** (to work with data structures);\n",
    "- ***NumPy*** (for operations with arrays and matrices);\n",
    "- ***Matplotlib*** (for plots and graphs);\n",
    "- ***Seaborn*** (for visualization of heat maps, time series, violine plots);\n",
    "- ***Skikit-Learn*** (Machine Learning, including regression, clustering, classificstion);\n",
    "- ***Keras*** (Deep Learning of Neural Networks);\n",
    "- ***TensorFlow*** (for deployment of Neural networks, have API's for different languages);\n",
    "- ***PyTorch*** (Deep Learning, classification and regression);\n",
    "- ***Apache Spark*** (cluster computer framework, can perform processing jobs written in Python, R, Scala and SQL);\n",
    "\n",
    "Most of theese libraries are used in Python (but may have API's for other languages too). Some other language-specific libraries used in data science are:\n",
    "\n",
    "- ***Vegas*** (for statistical data visualizations) and ***Big DL*** (for Deep Learning) for Scala;\n",
    "- ***ggplot2*** for visualization in R environment.\n",
    "\n",
    "There are many more libraries, frameworks and toolkits, used for specific tasks, like image processing and analysis, Natural Language Processing etc.\n"
   ]
  },
  {
   "cell_type": "markdown",
   "id": "cc682854-bac1-4e67-8995-12644f055278",
   "metadata": {},
   "source": [
    "|Data Science Tools |\n",
    "|-------------|\n",
    "| Jupiter Lab |\n",
    "| Apache Zeppelin |\n",
    "| R Studio |\n"
   ]
  },
  {
   "cell_type": "markdown",
   "id": "097c045d-ee75-4a35-b073-808a809bffe0",
   "metadata": {},
   "source": [
    "### Below are few examples of arithmetic expressions in Python:"
   ]
  },
  {
   "cell_type": "code",
   "execution_count": 2,
   "id": "e1002d46-370c-473b-89d8-fe918efa5f4e",
   "metadata": {
    "tags": []
   },
   "outputs": [
    {
     "data": {
      "text/plain": [
       "17"
      ]
     },
     "execution_count": 2,
     "metadata": {},
     "output_type": "execute_result"
    }
   ],
   "source": [
    "# This is a simple arithmetic expression to multiply and then add integers\n",
    "(3*4)+5"
   ]
  },
  {
   "cell_type": "code",
   "execution_count": 4,
   "id": "c52a4aef-202a-4c09-ad0c-cc55f281d989",
   "metadata": {
    "tags": []
   },
   "outputs": [
    {
     "name": "stdout",
     "output_type": "stream",
     "text": [
      "3.3333333333333335\n"
     ]
    }
   ],
   "source": [
    "# This expression will convert 200 minutes to hours by dividing by 60\n",
    "hrs = 200 / 60\n",
    "print (hrs)"
   ]
  },
  {
   "cell_type": "markdown",
   "id": "e7ad5aeb-527c-4366-8cbd-9a616fb39c10",
   "metadata": {},
   "source": [
    "## Author: \n",
    "Andrii Yurtseniuk "
   ]
  }
 ],
 "metadata": {
  "kernelspec": {
   "display_name": "Python 3 (ipykernel)",
   "language": "python",
   "name": "python3"
  },
  "language_info": {
   "codemirror_mode": {
    "name": "ipython",
    "version": 3
   },
   "file_extension": ".py",
   "mimetype": "text/x-python",
   "name": "python",
   "nbconvert_exporter": "python",
   "pygments_lexer": "ipython3",
   "version": "3.11.5"
  }
 },
 "nbformat": 4,
 "nbformat_minor": 5
}
